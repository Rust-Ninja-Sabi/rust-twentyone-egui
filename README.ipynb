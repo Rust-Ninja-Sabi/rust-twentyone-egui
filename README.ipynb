{
 "cells": [
  {
   "cell_type": "markdown",
   "id": "9160ec30-2141-4f06-9d42-a68021335472",
   "metadata": {},
   "source": [
    "# Rust Twentyone Egui - Card game"
   ]
  },
  {
   "cell_type": "markdown",
   "id": "45a9cbb6-0905-4a99-8348-82f72db7acba",
   "metadata": {},
   "source": [
    "A card game with rust(https://www.rust-lang.org) and the bevy framework(https://bevyengine.org). \n",
    "    \n",
    "Thanks to Kenney https://www.kenney.nl for the assets."
   ]
  }
 ],
 "metadata": {
  "kernelspec": {
   "display_name": "Rust",
   "language": "rust",
   "name": "rust"
  },
  "language_info": {
   "codemirror_mode": "rust",
   "file_extension": ".rs",
   "mimetype": "text/rust",
   "name": "Rust",
   "pygment_lexer": "rust",
   "version": ""
  }
 },
 "nbformat": 4,
 "nbformat_minor": 5
}
